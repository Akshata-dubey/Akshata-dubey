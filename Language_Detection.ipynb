{
  "nbformat": 4,
  "nbformat_minor": 0,
  "metadata": {
    "colab": {
      "provenance": [],
      "include_colab_link": true
    },
    "kernelspec": {
      "name": "python3",
      "display_name": "Python 3"
    },
    "language_info": {
      "name": "python"
    }
  },
  "cells": [
    {
      "cell_type": "markdown",
      "metadata": {
        "id": "view-in-github",
        "colab_type": "text"
      },
      "source": [
        "<a href=\"https://colab.research.google.com/github/Akshata-dubey/Akshata-dubey/blob/main/Language_Detection.ipynb\" target=\"_parent\"><img src=\"https://colab.research.google.com/assets/colab-badge.svg\" alt=\"Open In Colab\"/></a>"
      ]
    },
    {
      "cell_type": "markdown",
      "source": [
        "Step 1: Read and observe the data"
      ],
      "metadata": {
        "id": "56XOh_T10rDj"
      }
    },
    {
      "cell_type": "code",
      "execution_count": null,
      "metadata": {
        "id": "Skbq0JXSy3ZR"
      },
      "outputs": [],
      "source": [
        "# Importing the pandas library and aliasing it as 'pd'\n",
        "import pandas as pd\n",
        "\n",
        "# Reading a CSV file named \"Language Detection.csv\" into a DataFrame\n",
        "df = pd.read_csv(\"Language Detection.csv\")\n",
        "\n",
        "# Shuffling the rows of the DataFrame with a specific random state (42)\n",
        "df = df.sample(frac=1, random_state=42)\n",
        "\n",
        "# Resetting the index of the DataFrame and dropping the old index\n",
        "df = df.reset_index(drop=True)\n",
        "\n",
        "# Displaying"
      ]
    },
    {
      "cell_type": "code",
      "source": [
        "# Count the occurrences of each language in the \"Language\" column\n",
        "language_counts = df[\"Language\"].value_counts()\n",
        "print(language_counts)"
      ],
      "metadata": {
        "colab": {
          "base_uri": "https://localhost:8080/"
        },
        "id": "dnvBxCsE0aRL",
        "outputId": "91e30cd7-b904-413e-b202-7f5e422ca3de"
      },
      "execution_count": null,
      "outputs": [
        {
          "output_type": "stream",
          "name": "stdout",
          "text": [
            "English       1385\n",
            "French        1014\n",
            "Spanish        819\n",
            "Portugeese     739\n",
            "Italian        698\n",
            "Russian        692\n",
            "Sweedish       676\n",
            "Malayalam      594\n",
            "Dutch          546\n",
            "Arabic         536\n",
            "Turkish        474\n",
            "German         470\n",
            "Tamil          469\n",
            "Danish         428\n",
            "Kannada        369\n",
            "Greek          365\n",
            "Hindi           63\n",
            "Name: Language, dtype: int64\n"
          ]
        }
      ]
    },
    {
      "cell_type": "markdown",
      "source": [
        "Step 2: Data preparation"
      ],
      "metadata": {
        "id": "lGsG34SK0u73"
      }
    },
    {
      "cell_type": "code",
      "source": [
        "# Importing numpy for numerical operations\n",
        "import numpy as np\n",
        "\n",
        "# Importing CountVectorizer to create bag of word features\n",
        "from sklearn.feature_extraction.text import CountVectorizer\n",
        "\n",
        "# Importing train_test_split for splitting the data\n",
        "from sklearn.model_selection import train_test_split\n",
        "\n",
        "# Creating numpy arrays for the \"Text\" and \"Language\" columns\n",
        "x = np.array(df[\"Text\"])\n",
        "y = np.array(df[\"Language\"])\n",
        "\n",
        "# Initializing a CountVectorizer to create bag of word features\n",
        "cv = CountVectorizer()\n",
        "\n",
        "# Transforming the text data into a sparse matrix of token counts\n",
        "X = cv.fit_transform(x)\n",
        "\n",
        "# Splitting the data into training and testing sets\n",
        "X_train, X_test, y_train, y_test = train_test_split(X, y,\n",
        "                                                    test_size=0.2,\n",
        "                                                    random_state=0)\n",
        "\n"
      ],
      "metadata": {
        "id": "NoDxajC00gqF"
      },
      "execution_count": null,
      "outputs": []
    },
    {
      "cell_type": "markdown",
      "source": [
        "Step 3: Building model with Multinomial Naïve Bayes algorithm"
      ],
      "metadata": {
        "id": "xHknA4iz02bI"
      }
    },
    {
      "cell_type": "code",
      "source": [
        "# Import the Multinomial Naïve Bayes classifier from scikit-learn\n",
        "from sklearn.naive_bayes import MultinomialNB\n",
        "\n",
        "# Create an instance of the Multinomial Naïve Bayes model\n",
        "model = MultinomialNB()\n",
        "\n",
        "# Fit (train) the model using the training data\n",
        "model.fit(X_train, y_train)"
      ],
      "metadata": {
        "colab": {
          "base_uri": "https://localhost:8080/",
          "height": 74
        },
        "id": "N_plWoDQ0nXh",
        "outputId": "87d92a2e-8d75-47bc-a15d-9ce349fdeeeb"
      },
      "execution_count": null,
      "outputs": [
        {
          "output_type": "execute_result",
          "data": {
            "text/plain": [
              "MultinomialNB()"
            ],
            "text/html": [
              "<style>#sk-container-id-1 {color: black;background-color: white;}#sk-container-id-1 pre{padding: 0;}#sk-container-id-1 div.sk-toggleable {background-color: white;}#sk-container-id-1 label.sk-toggleable__label {cursor: pointer;display: block;width: 100%;margin-bottom: 0;padding: 0.3em;box-sizing: border-box;text-align: center;}#sk-container-id-1 label.sk-toggleable__label-arrow:before {content: \"▸\";float: left;margin-right: 0.25em;color: #696969;}#sk-container-id-1 label.sk-toggleable__label-arrow:hover:before {color: black;}#sk-container-id-1 div.sk-estimator:hover label.sk-toggleable__label-arrow:before {color: black;}#sk-container-id-1 div.sk-toggleable__content {max-height: 0;max-width: 0;overflow: hidden;text-align: left;background-color: #f0f8ff;}#sk-container-id-1 div.sk-toggleable__content pre {margin: 0.2em;color: black;border-radius: 0.25em;background-color: #f0f8ff;}#sk-container-id-1 input.sk-toggleable__control:checked~div.sk-toggleable__content {max-height: 200px;max-width: 100%;overflow: auto;}#sk-container-id-1 input.sk-toggleable__control:checked~label.sk-toggleable__label-arrow:before {content: \"▾\";}#sk-container-id-1 div.sk-estimator input.sk-toggleable__control:checked~label.sk-toggleable__label {background-color: #d4ebff;}#sk-container-id-1 div.sk-label input.sk-toggleable__control:checked~label.sk-toggleable__label {background-color: #d4ebff;}#sk-container-id-1 input.sk-hidden--visually {border: 0;clip: rect(1px 1px 1px 1px);clip: rect(1px, 1px, 1px, 1px);height: 1px;margin: -1px;overflow: hidden;padding: 0;position: absolute;width: 1px;}#sk-container-id-1 div.sk-estimator {font-family: monospace;background-color: #f0f8ff;border: 1px dotted black;border-radius: 0.25em;box-sizing: border-box;margin-bottom: 0.5em;}#sk-container-id-1 div.sk-estimator:hover {background-color: #d4ebff;}#sk-container-id-1 div.sk-parallel-item::after {content: \"\";width: 100%;border-bottom: 1px solid gray;flex-grow: 1;}#sk-container-id-1 div.sk-label:hover label.sk-toggleable__label {background-color: #d4ebff;}#sk-container-id-1 div.sk-serial::before {content: \"\";position: absolute;border-left: 1px solid gray;box-sizing: border-box;top: 0;bottom: 0;left: 50%;z-index: 0;}#sk-container-id-1 div.sk-serial {display: flex;flex-direction: column;align-items: center;background-color: white;padding-right: 0.2em;padding-left: 0.2em;position: relative;}#sk-container-id-1 div.sk-item {position: relative;z-index: 1;}#sk-container-id-1 div.sk-parallel {display: flex;align-items: stretch;justify-content: center;background-color: white;position: relative;}#sk-container-id-1 div.sk-item::before, #sk-container-id-1 div.sk-parallel-item::before {content: \"\";position: absolute;border-left: 1px solid gray;box-sizing: border-box;top: 0;bottom: 0;left: 50%;z-index: -1;}#sk-container-id-1 div.sk-parallel-item {display: flex;flex-direction: column;z-index: 1;position: relative;background-color: white;}#sk-container-id-1 div.sk-parallel-item:first-child::after {align-self: flex-end;width: 50%;}#sk-container-id-1 div.sk-parallel-item:last-child::after {align-self: flex-start;width: 50%;}#sk-container-id-1 div.sk-parallel-item:only-child::after {width: 0;}#sk-container-id-1 div.sk-dashed-wrapped {border: 1px dashed gray;margin: 0 0.4em 0.5em 0.4em;box-sizing: border-box;padding-bottom: 0.4em;background-color: white;}#sk-container-id-1 div.sk-label label {font-family: monospace;font-weight: bold;display: inline-block;line-height: 1.2em;}#sk-container-id-1 div.sk-label-container {text-align: center;}#sk-container-id-1 div.sk-container {/* jupyter's `normalize.less` sets `[hidden] { display: none; }` but bootstrap.min.css set `[hidden] { display: none !important; }` so we also need the `!important` here to be able to override the default hidden behavior on the sphinx rendered scikit-learn.org. See: https://github.com/scikit-learn/scikit-learn/issues/21755 */display: inline-block !important;position: relative;}#sk-container-id-1 div.sk-text-repr-fallback {display: none;}</style><div id=\"sk-container-id-1\" class=\"sk-top-container\"><div class=\"sk-text-repr-fallback\"><pre>MultinomialNB()</pre><b>In a Jupyter environment, please rerun this cell to show the HTML representation or trust the notebook. <br />On GitHub, the HTML representation is unable to render, please try loading this page with nbviewer.org.</b></div><div class=\"sk-container\" hidden><div class=\"sk-item\"><div class=\"sk-estimator sk-toggleable\"><input class=\"sk-toggleable__control sk-hidden--visually\" id=\"sk-estimator-id-1\" type=\"checkbox\" checked><label for=\"sk-estimator-id-1\" class=\"sk-toggleable__label sk-toggleable__label-arrow\">MultinomialNB</label><div class=\"sk-toggleable__content\"><pre>MultinomialNB()</pre></div></div></div></div></div>"
            ]
          },
          "metadata": {},
          "execution_count": 4
        }
      ]
    },
    {
      "cell_type": "code",
      "source": [
        "# Calculate the accuracy score of the model on the test data\n",
        "accuracy_score = model.score(X_test, y_test)\n",
        "\n",
        "# Print the model's accuracy score\n",
        "print(f\"The model accuracy score is: {accuracy_score}\")\n"
      ],
      "metadata": {
        "colab": {
          "base_uri": "https://localhost:8080/"
        },
        "id": "PK-PgCOS05w_",
        "outputId": "a98dfe72-f95a-49b3-9b56-09d2a2d0fcb7"
      },
      "execution_count": null,
      "outputs": [
        {
          "output_type": "stream",
          "name": "stdout",
          "text": [
            "The model accuracy score is: 0.9792069632495164\n"
          ]
        }
      ]
    },
    {
      "cell_type": "code",
      "source": [
        "# Create a loop to continuously ask for user input\n",
        "while True:\n",
        "    user = input(\"Enter a Text (or 'end' to exit): \")  # Prompt the user to enter text\n",
        "\n",
        "    # Check if the user wants to exit the loop\n",
        "    if user.lower() == 'end':\n",
        "        break  # Exit the loop if user enters 'end'\n",
        "\n",
        "    data = cv.transform([user]).toarray()  # Transform user input into numerical data\n",
        "    output = model.predict(data)  # Use the model to predict the language\n",
        "    print(output)  # Print the predicted language"
      ],
      "metadata": {
        "colab": {
          "base_uri": "https://localhost:8080/"
        },
        "id": "dK_2Arux09Kt",
        "outputId": "9070fcd3-ede1-4f63-ce31-b33a93534945"
      },
      "execution_count": null,
      "outputs": [
        {
          "name": "stdout",
          "output_type": "stream",
          "text": [
            "Enter a Text (or 'end' to exit): this is great\n",
            "['English']\n",
            "Enter a Text (or 'end' to exit): Hola mundo\n",
            "['Spanish']\n",
            "Enter a Text (or 'end' to exit): Hallo Welt\n",
            "['German']\n",
            "Enter a Text (or 'end' to exit): end\n"
          ]
        }
      ]
    },
    {
      "cell_type": "code",
      "source": [],
      "metadata": {
        "id": "EhCR4UC81HRF"
      },
      "execution_count": null,
      "outputs": []
    }
  ]
}